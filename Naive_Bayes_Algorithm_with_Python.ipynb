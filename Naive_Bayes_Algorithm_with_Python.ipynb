{
  "cells": [
    {
      "cell_type": "markdown",
      "metadata": {
        "id": "view-in-github",
        "colab_type": "text"
      },
      "source": [
        "<a href=\"https://colab.research.google.com/github/TaufiqueSekh/Naive-Bayes-Algorithm-with-Python/blob/main/Naive_Bayes_Algorithm_with_Python.ipynb\" target=\"_parent\"><img src=\"https://colab.research.google.com/assets/colab-badge.svg\" alt=\"Open In Colab\"/></a>"
      ]
    },
    {
      "cell_type": "markdown",
      "id": "9de3f714",
      "metadata": {
        "id": "9de3f714"
      },
      "source": [
        "# Naive Bayes Algorithm with Python\n",
        "### By Taufique Sekh\n",
        "### For code and data set ,Visit:"
      ]
    },
    {
      "cell_type": "markdown",
      "id": "a9023c3b",
      "metadata": {
        "id": "a9023c3b"
      },
      "source": [
        "#### Import Library"
      ]
    },
    {
      "cell_type": "code",
      "execution_count": null,
      "id": "2b7ba15e",
      "metadata": {
        "id": "2b7ba15e",
        "outputId": "13bf11bd-732a-4149-b07f-a7017946546e"
      },
      "outputs": [
        {
          "name": "stderr",
          "output_type": "stream",
          "text": [
            "<frozen importlib._bootstrap>:219: RuntimeWarning: scipy._lib.messagestream.MessageStream size changed, may indicate binary incompatibility. Expected 56 from C header, got 64 from PyObject\n"
          ]
        }
      ],
      "source": [
        "import pandas as pd\n",
        "import numpy as np\n",
        "import matplotlib.pyplot as plt\n",
        "import seaborn as sns\n",
        "%matplotlib inline"
      ]
    },
    {
      "cell_type": "markdown",
      "id": "0ddd4b1e",
      "metadata": {
        "id": "0ddd4b1e"
      },
      "source": [
        "#### Get the data set"
      ]
    },
    {
      "cell_type": "code",
      "execution_count": null,
      "id": "96be1ff9",
      "metadata": {
        "id": "96be1ff9",
        "outputId": "e9c1d197-3f01-4944-8018-ba4ffb3aaff4"
      },
      "outputs": [
        {
          "data": {
            "text/html": [
              "<div>\n",
              "<style scoped>\n",
              "    .dataframe tbody tr th:only-of-type {\n",
              "        vertical-align: middle;\n",
              "    }\n",
              "\n",
              "    .dataframe tbody tr th {\n",
              "        vertical-align: top;\n",
              "    }\n",
              "\n",
              "    .dataframe thead th {\n",
              "        text-align: right;\n",
              "    }\n",
              "</style>\n",
              "<table border=\"1\" class=\"dataframe\">\n",
              "  <thead>\n",
              "    <tr style=\"text-align: right;\">\n",
              "      <th></th>\n",
              "      <th>v1</th>\n",
              "      <th>v2</th>\n",
              "      <th>Unnamed: 2</th>\n",
              "      <th>Unnamed: 3</th>\n",
              "      <th>Unnamed: 4</th>\n",
              "    </tr>\n",
              "  </thead>\n",
              "  <tbody>\n",
              "    <tr>\n",
              "      <th>0</th>\n",
              "      <td>ham</td>\n",
              "      <td>Go until jurong point, crazy.. Available only ...</td>\n",
              "      <td>NaN</td>\n",
              "      <td>NaN</td>\n",
              "      <td>NaN</td>\n",
              "    </tr>\n",
              "    <tr>\n",
              "      <th>1</th>\n",
              "      <td>ham</td>\n",
              "      <td>Ok lar... Joking wif u oni...</td>\n",
              "      <td>NaN</td>\n",
              "      <td>NaN</td>\n",
              "      <td>NaN</td>\n",
              "    </tr>\n",
              "    <tr>\n",
              "      <th>2</th>\n",
              "      <td>spam</td>\n",
              "      <td>Free entry in 2 a wkly comp to win FA Cup fina...</td>\n",
              "      <td>NaN</td>\n",
              "      <td>NaN</td>\n",
              "      <td>NaN</td>\n",
              "    </tr>\n",
              "    <tr>\n",
              "      <th>3</th>\n",
              "      <td>ham</td>\n",
              "      <td>U dun say so early hor... U c already then say...</td>\n",
              "      <td>NaN</td>\n",
              "      <td>NaN</td>\n",
              "      <td>NaN</td>\n",
              "    </tr>\n",
              "    <tr>\n",
              "      <th>4</th>\n",
              "      <td>ham</td>\n",
              "      <td>Nah I don't think he goes to usf, he lives aro...</td>\n",
              "      <td>NaN</td>\n",
              "      <td>NaN</td>\n",
              "      <td>NaN</td>\n",
              "    </tr>\n",
              "  </tbody>\n",
              "</table>\n",
              "</div>"
            ],
            "text/plain": [
              "     v1                                                 v2 Unnamed: 2  \\\n",
              "0   ham  Go until jurong point, crazy.. Available only ...        NaN   \n",
              "1   ham                      Ok lar... Joking wif u oni...        NaN   \n",
              "2  spam  Free entry in 2 a wkly comp to win FA Cup fina...        NaN   \n",
              "3   ham  U dun say so early hor... U c already then say...        NaN   \n",
              "4   ham  Nah I don't think he goes to usf, he lives aro...        NaN   \n",
              "\n",
              "  Unnamed: 3 Unnamed: 4  \n",
              "0        NaN        NaN  \n",
              "1        NaN        NaN  \n",
              "2        NaN        NaN  \n",
              "3        NaN        NaN  \n",
              "4        NaN        NaN  "
            ]
          },
          "execution_count": 2,
          "metadata": {},
          "output_type": "execute_result"
        }
      ],
      "source": [
        "# The reason behind using encoding='latin1' is that we can handle any special character present in the data set.\n",
        "df=pd.read_csv('/Users/taufique/spam.csv',encoding='latin1')\n",
        "df.head()"
      ]
    },
    {
      "cell_type": "markdown",
      "id": "62233e39",
      "metadata": {
        "id": "62233e39"
      },
      "source": [
        "#### We can see that there are three unnamed column,which has no use. So we can delete these three unnamed columns."
      ]
    },
    {
      "cell_type": "code",
      "execution_count": null,
      "id": "d799ec28",
      "metadata": {
        "id": "d799ec28",
        "outputId": "6edc1322-12ad-4441-87f8-2e644ac02762"
      },
      "outputs": [
        {
          "data": {
            "text/html": [
              "<div>\n",
              "<style scoped>\n",
              "    .dataframe tbody tr th:only-of-type {\n",
              "        vertical-align: middle;\n",
              "    }\n",
              "\n",
              "    .dataframe tbody tr th {\n",
              "        vertical-align: top;\n",
              "    }\n",
              "\n",
              "    .dataframe thead th {\n",
              "        text-align: right;\n",
              "    }\n",
              "</style>\n",
              "<table border=\"1\" class=\"dataframe\">\n",
              "  <thead>\n",
              "    <tr style=\"text-align: right;\">\n",
              "      <th></th>\n",
              "      <th>v1</th>\n",
              "      <th>v2</th>\n",
              "    </tr>\n",
              "  </thead>\n",
              "  <tbody>\n",
              "    <tr>\n",
              "      <th>0</th>\n",
              "      <td>ham</td>\n",
              "      <td>Go until jurong point, crazy.. Available only ...</td>\n",
              "    </tr>\n",
              "    <tr>\n",
              "      <th>1</th>\n",
              "      <td>ham</td>\n",
              "      <td>Ok lar... Joking wif u oni...</td>\n",
              "    </tr>\n",
              "    <tr>\n",
              "      <th>2</th>\n",
              "      <td>spam</td>\n",
              "      <td>Free entry in 2 a wkly comp to win FA Cup fina...</td>\n",
              "    </tr>\n",
              "    <tr>\n",
              "      <th>3</th>\n",
              "      <td>ham</td>\n",
              "      <td>U dun say so early hor... U c already then say...</td>\n",
              "    </tr>\n",
              "    <tr>\n",
              "      <th>4</th>\n",
              "      <td>ham</td>\n",
              "      <td>Nah I don't think he goes to usf, he lives aro...</td>\n",
              "    </tr>\n",
              "  </tbody>\n",
              "</table>\n",
              "</div>"
            ],
            "text/plain": [
              "     v1                                                 v2\n",
              "0   ham  Go until jurong point, crazy.. Available only ...\n",
              "1   ham                      Ok lar... Joking wif u oni...\n",
              "2  spam  Free entry in 2 a wkly comp to win FA Cup fina...\n",
              "3   ham  U dun say so early hor... U c already then say...\n",
              "4   ham  Nah I don't think he goes to usf, he lives aro..."
            ]
          },
          "execution_count": 3,
          "metadata": {},
          "output_type": "execute_result"
        }
      ],
      "source": [
        "df=df.drop(['Unnamed: 2','Unnamed: 3','Unnamed: 4'],axis=1)\n",
        "df.head()"
      ]
    },
    {
      "cell_type": "markdown",
      "id": "e860d483",
      "metadata": {
        "id": "e860d483"
      },
      "source": [
        "#### We can rename the columns for better understanding. Let's use v1 as Label and v2 as Text"
      ]
    },
    {
      "cell_type": "code",
      "execution_count": null,
      "id": "23f7c97b",
      "metadata": {
        "id": "23f7c97b"
      },
      "outputs": [],
      "source": [
        "df.columns=['label','text']"
      ]
    },
    {
      "cell_type": "code",
      "execution_count": null,
      "id": "a8dd5ae7",
      "metadata": {
        "id": "a8dd5ae7",
        "outputId": "1b7db598-d18c-42b5-9ae8-85fdde1950b0"
      },
      "outputs": [
        {
          "data": {
            "text/html": [
              "<div>\n",
              "<style scoped>\n",
              "    .dataframe tbody tr th:only-of-type {\n",
              "        vertical-align: middle;\n",
              "    }\n",
              "\n",
              "    .dataframe tbody tr th {\n",
              "        vertical-align: top;\n",
              "    }\n",
              "\n",
              "    .dataframe thead th {\n",
              "        text-align: right;\n",
              "    }\n",
              "</style>\n",
              "<table border=\"1\" class=\"dataframe\">\n",
              "  <thead>\n",
              "    <tr style=\"text-align: right;\">\n",
              "      <th></th>\n",
              "      <th>label</th>\n",
              "      <th>text</th>\n",
              "    </tr>\n",
              "  </thead>\n",
              "  <tbody>\n",
              "    <tr>\n",
              "      <th>0</th>\n",
              "      <td>ham</td>\n",
              "      <td>Go until jurong point, crazy.. Available only ...</td>\n",
              "    </tr>\n",
              "    <tr>\n",
              "      <th>1</th>\n",
              "      <td>ham</td>\n",
              "      <td>Ok lar... Joking wif u oni...</td>\n",
              "    </tr>\n",
              "    <tr>\n",
              "      <th>2</th>\n",
              "      <td>spam</td>\n",
              "      <td>Free entry in 2 a wkly comp to win FA Cup fina...</td>\n",
              "    </tr>\n",
              "    <tr>\n",
              "      <th>3</th>\n",
              "      <td>ham</td>\n",
              "      <td>U dun say so early hor... U c already then say...</td>\n",
              "    </tr>\n",
              "    <tr>\n",
              "      <th>4</th>\n",
              "      <td>ham</td>\n",
              "      <td>Nah I don't think he goes to usf, he lives aro...</td>\n",
              "    </tr>\n",
              "  </tbody>\n",
              "</table>\n",
              "</div>"
            ],
            "text/plain": [
              "  label                                               text\n",
              "0   ham  Go until jurong point, crazy.. Available only ...\n",
              "1   ham                      Ok lar... Joking wif u oni...\n",
              "2  spam  Free entry in 2 a wkly comp to win FA Cup fina...\n",
              "3   ham  U dun say so early hor... U c already then say...\n",
              "4   ham  Nah I don't think he goes to usf, he lives aro..."
            ]
          },
          "execution_count": 5,
          "metadata": {},
          "output_type": "execute_result"
        }
      ],
      "source": [
        "df.head()"
      ]
    },
    {
      "cell_type": "markdown",
      "id": "b60c7882",
      "metadata": {
        "id": "b60c7882"
      },
      "source": [
        "#### Now convert label into numerical value like if spam =1 and ham=0"
      ]
    },
    {
      "cell_type": "code",
      "execution_count": null,
      "id": "84278bfb",
      "metadata": {
        "id": "84278bfb"
      },
      "outputs": [],
      "source": [
        "df['label']=np.where(df['label']=='spam',1,0)"
      ]
    },
    {
      "cell_type": "code",
      "execution_count": null,
      "id": "6b6f0de6",
      "metadata": {
        "id": "6b6f0de6",
        "outputId": "28c97286-e0b0-4dd3-8158-dbf7a4029ee3"
      },
      "outputs": [
        {
          "data": {
            "text/html": [
              "<div>\n",
              "<style scoped>\n",
              "    .dataframe tbody tr th:only-of-type {\n",
              "        vertical-align: middle;\n",
              "    }\n",
              "\n",
              "    .dataframe tbody tr th {\n",
              "        vertical-align: top;\n",
              "    }\n",
              "\n",
              "    .dataframe thead th {\n",
              "        text-align: right;\n",
              "    }\n",
              "</style>\n",
              "<table border=\"1\" class=\"dataframe\">\n",
              "  <thead>\n",
              "    <tr style=\"text-align: right;\">\n",
              "      <th></th>\n",
              "      <th>label</th>\n",
              "      <th>text</th>\n",
              "    </tr>\n",
              "  </thead>\n",
              "  <tbody>\n",
              "    <tr>\n",
              "      <th>0</th>\n",
              "      <td>0</td>\n",
              "      <td>Go until jurong point, crazy.. Available only ...</td>\n",
              "    </tr>\n",
              "    <tr>\n",
              "      <th>1</th>\n",
              "      <td>0</td>\n",
              "      <td>Ok lar... Joking wif u oni...</td>\n",
              "    </tr>\n",
              "    <tr>\n",
              "      <th>2</th>\n",
              "      <td>1</td>\n",
              "      <td>Free entry in 2 a wkly comp to win FA Cup fina...</td>\n",
              "    </tr>\n",
              "    <tr>\n",
              "      <th>3</th>\n",
              "      <td>0</td>\n",
              "      <td>U dun say so early hor... U c already then say...</td>\n",
              "    </tr>\n",
              "    <tr>\n",
              "      <th>4</th>\n",
              "      <td>0</td>\n",
              "      <td>Nah I don't think he goes to usf, he lives aro...</td>\n",
              "    </tr>\n",
              "  </tbody>\n",
              "</table>\n",
              "</div>"
            ],
            "text/plain": [
              "   label                                               text\n",
              "0      0  Go until jurong point, crazy.. Available only ...\n",
              "1      0                      Ok lar... Joking wif u oni...\n",
              "2      1  Free entry in 2 a wkly comp to win FA Cup fina...\n",
              "3      0  U dun say so early hor... U c already then say...\n",
              "4      0  Nah I don't think he goes to usf, he lives aro..."
            ]
          },
          "execution_count": 7,
          "metadata": {},
          "output_type": "execute_result"
        }
      ],
      "source": [
        "df.head()"
      ]
    },
    {
      "cell_type": "code",
      "execution_count": null,
      "id": "f65a10ef",
      "metadata": {
        "id": "f65a10ef",
        "outputId": "a7e6cd7f-ecea-4abe-9976-2d44e6bdb0bc"
      },
      "outputs": [
        {
          "data": {
            "text/plain": [
              "0    4825\n",
              "1     747\n",
              "Name: label, dtype: int64"
            ]
          },
          "execution_count": 8,
          "metadata": {},
          "output_type": "execute_result"
        }
      ],
      "source": [
        "df['label'].value_counts()"
      ]
    },
    {
      "cell_type": "code",
      "execution_count": null,
      "id": "bf41e684",
      "metadata": {
        "id": "bf41e684",
        "outputId": "fadaa89e-4b93-4e31-ddc2-53f044da724e"
      },
      "outputs": [
        {
          "data": {
            "text/plain": [
              "<Axes: xlabel='label', ylabel='count'>"
            ]
          },
          "execution_count": 9,
          "metadata": {},
          "output_type": "execute_result"
        },
        {
          "data": {
            "image/png": "[encoded data removed]",
            "text/plain": [
              "<Figure size 640x480 with 1 Axes>"
            ]
          },
          "metadata": {},
          "output_type": "display_data"
        }
      ],
      "source": [
        "sns.countplot(x=df[\"label\"])"
      ]
    },
    {
      "cell_type": "markdown",
      "id": "ca18c5fe",
      "metadata": {
        "id": "ca18c5fe"
      },
      "source": [
        "#### Let's Split the data into Train and test data"
      ]
    },
    {
      "cell_type": "code",
      "execution_count": null,
      "id": "012645e7",
      "metadata": {
        "id": "012645e7"
      },
      "outputs": [],
      "source": [
        "from sklearn.model_selection import train_test_split"
      ]
    },
    {
      "cell_type": "code",
      "execution_count": null,
      "id": "1211f917",
      "metadata": {
        "id": "1211f917"
      },
      "outputs": [],
      "source": [
        "X=df['text']\n",
        "y=df['label']"
      ]
    },
    {
      "cell_type": "markdown",
      "id": "1b8d6af5",
      "metadata": {
        "id": "1b8d6af5"
      },
      "source": [
        "### Machine learning does not understand the text data, so we need to transform the text into numerical value.\n",
        "we can do this by using CountVectorizer\n",
        "\n",
        "Convert a collection of text documents to a matrix of token counts\n",
        "\n",
        "This implementation produces a sparse representation of the counts using\n",
        "scipy.sparse.csr_matrix."
      ]
    },
    {
      "cell_type": "code",
      "execution_count": null,
      "id": "a37ebec2",
      "metadata": {
        "id": "a37ebec2"
      },
      "outputs": [],
      "source": [
        "from sklearn.feature_extraction.text import CountVectorizer"
      ]
    },
    {
      "cell_type": "code",
      "execution_count": null,
      "id": "1b43f22d",
      "metadata": {
        "id": "1b43f22d"
      },
      "outputs": [],
      "source": [
        "'''When building the vocabulary ignore terms that have a document\n",
        "    frequency strictly higher than the given threshold (corpus-specific\n",
        "    stop words).\n",
        "    If float, the parameter represents a proportion of documents, integer\n",
        "    absolute counts.'''\n",
        "    \n",
        "vc=CountVectorizer()"
      ]
    },
    {
      "cell_type": "code",
      "execution_count": null,
      "id": "41ddd46f",
      "metadata": {
        "id": "41ddd46f"
      },
      "outputs": [],
      "source": [
        "X=vc.fit_transform(X)"
      ]
    },
    {
      "cell_type": "code",
      "execution_count": null,
      "id": "acfe0507",
      "metadata": {
        "id": "acfe0507"
      },
      "outputs": [],
      "source": [
        "X_train,X_test,y_train,y_test=train_test_split(X,y,test_size=0.3,random_state=42)"
      ]
    },
    {
      "cell_type": "code",
      "execution_count": null,
      "id": "0ba2a8e2",
      "metadata": {
        "id": "0ba2a8e2",
        "outputId": "f9736365-f472-4504-8e64-c0b982b50a21"
      },
      "outputs": [
        {
          "name": "stdout",
          "output_type": "stream",
          "text": [
            "x_train - >   (3900, 8672)\n",
            "x_test - >   (1672, 8672)\n",
            "y_train - >   (3900,)\n",
            "y_test - >   (1672,)\n"
          ]
        }
      ],
      "source": [
        "print(\"x_train - >  \",X_train.shape)\n",
        "print(\"x_test - >  \",X_test.shape)\n",
        "print(\"y_train - >  \",y_train.shape)\n",
        "print(\"y_test - >  \",y_test.shape)"
      ]
    },
    {
      "cell_type": "markdown",
      "id": "fbae1e58",
      "metadata": {
        "id": "fbae1e58"
      },
      "source": [
        "##### Training and Evaluating model"
      ]
    },
    {
      "cell_type": "markdown",
      "id": "525f91f4",
      "metadata": {
        "id": "525f91f4"
      },
      "source": [
        "#### Now apply Bernoulli Naive Bayes Classifier"
      ]
    },
    {
      "cell_type": "code",
      "execution_count": null,
      "id": "7e60f0cd",
      "metadata": {
        "id": "7e60f0cd"
      },
      "outputs": [],
      "source": [
        "from sklearn.naive_bayes import BernoulliNB"
      ]
    },
    {
      "cell_type": "code",
      "execution_count": null,
      "id": "5dbf2ed4",
      "metadata": {
        "id": "5dbf2ed4"
      },
      "outputs": [],
      "source": [
        "bnb=BernoulliNB()"
      ]
    },
    {
      "cell_type": "code",
      "execution_count": null,
      "id": "e90f106f",
      "metadata": {
        "id": "e90f106f",
        "outputId": "62ffcd7a-fb7c-4d16-a030-bc8e95fcd80b"
      },
      "outputs": [
        {
          "data": {
            "text/plain": [
              "BernoulliNB()"
            ]
          },
          "execution_count": 19,
          "metadata": {},
          "output_type": "execute_result"
        }
      ],
      "source": [
        "bnb.fit(X_train,y_train)"
      ]
    },
    {
      "cell_type": "code",
      "execution_count": null,
      "id": "f97ff03b",
      "metadata": {
        "id": "f97ff03b"
      },
      "outputs": [],
      "source": [
        "bnb_pred=bnb.predict(X_test)"
      ]
    },
    {
      "cell_type": "code",
      "execution_count": null,
      "id": "076fe44f",
      "metadata": {
        "id": "076fe44f"
      },
      "outputs": [],
      "source": [
        "from sklearn.metrics import accuracy_score,precision_score"
      ]
    },
    {
      "cell_type": "code",
      "execution_count": null,
      "id": "548d6f52",
      "metadata": {
        "id": "548d6f52",
        "outputId": "d3565335-b24d-49a9-f68b-1eb2fe78d8fc"
      },
      "outputs": [
        {
          "name": "stdout",
          "output_type": "stream",
          "text": [
            "accuracy score :-  0.9784688995215312\n",
            "precision score :-  0.9893048128342246\n"
          ]
        }
      ],
      "source": [
        "print(\"accuracy score :- \",accuracy_score(y_test,bnb_pred))\n",
        "print(\"precision score :- \",precision_score(y_test,bnb_pred))"
      ]
    },
    {
      "cell_type": "markdown",
      "id": "6c8a41fd",
      "metadata": {
        "id": "6c8a41fd"
      },
      "source": [
        "#### Now apply Multinomial Naive Bayes Classifier"
      ]
    },
    {
      "cell_type": "code",
      "execution_count": null,
      "id": "399251b9",
      "metadata": {
        "id": "399251b9"
      },
      "outputs": [],
      "source": [
        "from sklearn.naive_bayes import MultinomialNB"
      ]
    },
    {
      "cell_type": "code",
      "execution_count": null,
      "id": "ba3f57e4",
      "metadata": {
        "id": "ba3f57e4"
      },
      "outputs": [],
      "source": [
        "mnb=MultinomialNB()"
      ]
    },
    {
      "cell_type": "code",
      "execution_count": null,
      "id": "3c62f63b",
      "metadata": {
        "id": "3c62f63b",
        "outputId": "e0ba248f-b106-4635-80c0-b58762aee745"
      },
      "outputs": [
        {
          "data": {
            "text/plain": [
              "MultinomialNB()"
            ]
          },
          "execution_count": 25,
          "metadata": {},
          "output_type": "execute_result"
        }
      ],
      "source": [
        "mnb.fit(X_train,y_train)"
      ]
    },
    {
      "cell_type": "code",
      "execution_count": null,
      "id": "e2b80362",
      "metadata": {
        "id": "e2b80362"
      },
      "outputs": [],
      "source": [
        "mnb_pred=mnb.predict(X_test)"
      ]
    },
    {
      "cell_type": "code",
      "execution_count": null,
      "id": "f07c172c",
      "metadata": {
        "id": "f07c172c"
      },
      "outputs": [],
      "source": [
        "from sklearn.metrics import accuracy_score,precision_score"
      ]
    },
    {
      "cell_type": "code",
      "execution_count": null,
      "id": "94fd21ad",
      "metadata": {
        "id": "94fd21ad",
        "outputId": "8f56b2be-f743-4452-fd09-212c3d2045e6"
      },
      "outputs": [
        {
          "name": "stdout",
          "output_type": "stream",
          "text": [
            "accuracy score :-  0.9784688995215312\n",
            "precision score :-  0.9178082191780822\n"
          ]
        }
      ],
      "source": [
        "print(\"accuracy score :- \",accuracy_score(y_test,mnb_pred))\n",
        "print(\"precision score :- \",precision_score(y_test,mnb_pred))"
      ]
    },
    {
      "cell_type": "markdown",
      "id": "16baa47c",
      "metadata": {
        "id": "16baa47c"
      },
      "source": [
        "#### Now apply  Gaussian Naive Bayes Classifier"
      ]
    },
    {
      "cell_type": "code",
      "execution_count": null,
      "id": "e7288efb",
      "metadata": {
        "id": "e7288efb"
      },
      "outputs": [],
      "source": [
        "from sklearn.naive_bayes import GaussianNB"
      ]
    },
    {
      "cell_type": "code",
      "execution_count": null,
      "id": "8932b985",
      "metadata": {
        "id": "8932b985"
      },
      "outputs": [],
      "source": [
        "gnb=GaussianNB()"
      ]
    },
    {
      "cell_type": "code",
      "execution_count": null,
      "id": "8c3bf4ee",
      "metadata": {
        "id": "8c3bf4ee",
        "outputId": "11251fcd-3780-4752-9f35-71557dfad818"
      },
      "outputs": [
        {
          "data": {
            "text/plain": [
              "GaussianNB()"
            ]
          },
          "execution_count": 38,
          "metadata": {},
          "output_type": "execute_result"
        }
      ],
      "source": [
        "gnb.fit(X_train,y_train)"
      ]
    },
    {
      "cell_type": "code",
      "execution_count": null,
      "id": "dfe449e9",
      "metadata": {
        "id": "dfe449e9"
      },
      "outputs": [],
      "source": [
        "gnb_pred=gnb.predict(X_test)"
      ]
    },
    {
      "cell_type": "code",
      "execution_count": null,
      "id": "08644568",
      "metadata": {
        "id": "08644568",
        "outputId": "a83a9eff-f9e0-43cf-de61-93ff0d4f641c"
      },
      "outputs": [
        {
          "name": "stdout",
          "output_type": "stream",
          "text": [
            "accuracy score :-  0.9043062200956937\n",
            "precision score :-  0.5860058309037901\n"
          ]
        }
      ],
      "source": [
        "print(\"accuracy score :- \",accuracy_score(y_test,gnb_pred))\n",
        "print(\"precision score :- \",precision_score(y_test,gnb_pred))"
      ]
    },
    {
      "cell_type": "code",
      "execution_count": null,
      "id": "7a37f24f",
      "metadata": {
        "id": "7a37f24f"
      },
      "outputs": [],
      "source": []
    },
    {
      "cell_type": "markdown",
      "id": "9db03466",
      "metadata": {
        "id": "9db03466"
      },
      "source": [
        "## Preparing Model for deployment"
      ]
    },
    {
      "cell_type": "code",
      "execution_count": null,
      "id": "dc681846",
      "metadata": {
        "id": "dc681846"
      },
      "outputs": [],
      "source": [
        "import pickle"
      ]
    },
    {
      "cell_type": "code",
      "execution_count": null,
      "id": "7f4693b7",
      "metadata": {
        "id": "7f4693b7"
      },
      "outputs": [],
      "source": [
        "'''\n",
        "dump() is use for save the model in the form of file in any format\n",
        "\n",
        "'wb' means write binary\n",
        "'rb' means read binary, use when loading the model\n",
        "\n",
        "\n",
        "'.sav'  = The SAV file extension is more commonly known as a generic \n",
        "          extension that is used to save files and data, typically \n",
        "          for saving progress in video games.\n",
        "'''\n",
        "pickle.dump(mnb,open('model.sav','wb'))"
      ]
    },
    {
      "cell_type": "markdown",
      "id": "0ad593d3",
      "metadata": {
        "id": "0ad593d3"
      },
      "source": [
        "## Checking whether our model working fine or not ??"
      ]
    },
    {
      "cell_type": "code",
      "execution_count": null,
      "id": "4fb6c5ac",
      "metadata": {
        "id": "4fb6c5ac"
      },
      "outputs": [],
      "source": [
        "load_model_mnb=pickle.load(open('model.sav','rb'))"
      ]
    },
    {
      "cell_type": "code",
      "execution_count": null,
      "id": "84171939",
      "metadata": {
        "id": "84171939"
      },
      "outputs": [],
      "source": [
        "input_sms=['Even my brother is not like to speak with me. They treat me like aids patent.']"
      ]
    },
    {
      "cell_type": "code",
      "execution_count": null,
      "id": "3c7966d1",
      "metadata": {
        "id": "3c7966d1"
      },
      "outputs": [],
      "source": [
        "input_sms=vc.fit_transform(input_sms)"
      ]
    },
    {
      "cell_type": "code",
      "execution_count": null,
      "id": "3f9fb6c0",
      "metadata": {
        "id": "3f9fb6c0",
        "outputId": "637ed6d3-f4c0-44e9-97d5-05580dd67c03"
      },
      "outputs": [
        {
          "data": {
            "text/plain": [
              "<1x14 sparse matrix of type '<class 'numpy.int64'>'\n",
              "\twith 14 stored elements in Compressed Sparse Row format>"
            ]
          },
          "execution_count": 93,
          "metadata": {},
          "output_type": "execute_result"
        }
      ],
      "source": [
        "input_sms"
      ]
    },
    {
      "cell_type": "code",
      "execution_count": null,
      "id": "4c0608e8",
      "metadata": {
        "id": "4c0608e8",
        "outputId": "9b213a96-9bf7-473c-8666-b9e157044e0d"
      },
      "outputs": [
        {
          "data": {
            "text/plain": [
              "'Even my brother is not like to speak with me. They treat me like aids patent.'"
            ]
          },
          "execution_count": 90,
          "metadata": {},
          "output_type": "execute_result"
        }
      ],
      "source": [
        "load_model_mnb.predict(input_sms)"
      ]
    },
    {
      "cell_type": "code",
      "execution_count": null,
      "id": "04c27bf9",
      "metadata": {
        "id": "04c27bf9"
      },
      "outputs": [],
      "source": []
    }
  ],
  "metadata": {
    "kernelspec": {
      "display_name": "Python 3 (ipykernel)",
      "language": "python",
      "name": "python3"
    },
    "language_info": {
      "codemirror_mode": {
        "name": "ipython",
        "version": 3
      },
      "file_extension": ".py",
      "mimetype": "text/x-python",
      "name": "python",
      "nbconvert_exporter": "python",
      "pygments_lexer": "ipython3",
      "version": "3.8.16"
    },
    "colab": {
      "provenance": [],
      "include_colab_link": true
    }
  },
  "nbformat": 4,
  "nbformat_minor": 5
}